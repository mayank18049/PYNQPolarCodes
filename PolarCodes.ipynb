{
 "cells": [
  {
   "cell_type": "code",
   "execution_count": null,
   "metadata": {},
   "outputs": [],
   "source": [
    "from pynq import Overlay\n",
    "from pynq import DefaultIP"
   ]
  },
  {
   "cell_type": "code",
   "execution_count": null,
   "metadata": {},
   "outputs": [],
   "source": [
    "class AbstractIP(DefaultIP):\n",
    "    def __init__(self, description):\n",
    "        super().__init__(description)\n",
    "        self.UL = False\n",
    "        self.crcLen = 0\n",
    "        self.K = 0\n",
    "        self.E = 0\n",
    "        self.ModScheme = \"\"\n",
    "        self.SNR = -1\n",
    "        self._iIL = 0\n",
    "        self._IBL = 0\n",
    "        self._nMax = 0\n",
    "\n",
    "\n"
   ]
  },
  {
   "cell_type": "markdown",
   "metadata": {},
   "source": [
    "## Driver for Encoder_IP\n"
   ]
  },
  {
   "cell_type": "code",
   "execution_count": null,
   "metadata": {},
   "outputs": [],
   "source": [
    "class Encoder_IP(AbstractIP):\n",
    "    bindto = ['My IP Type']\n",
    "    def __init__(self, description):\n",
    "        super().__init__(description)\n",
    "\n",
    "    \n",
    "    def config():\n",
    "        pass\n",
    "\n",
    "    \n"
   ]
  },
  {
   "cell_type": "markdown",
   "metadata": {},
   "source": [
    "## Driver for Rate_Recover_IP\n"
   ]
  },
  {
   "cell_type": "code",
   "execution_count": null,
   "metadata": {},
   "outputs": [],
   "source": [
    "class RateRecover_IP(AbstractIP):\n",
    "    bindto = ['My IP Type']\n",
    "    def __init__(self, description):\n",
    "        super().__init__(description)\n",
    "\n",
    "    \n",
    "    def config():\n",
    "        pass\n"
   ]
  },
  {
   "cell_type": "markdown",
   "metadata": {},
   "source": [
    "## Driver for Decoder_IP\n"
   ]
  },
  {
   "cell_type": "code",
   "execution_count": null,
   "metadata": {},
   "outputs": [],
   "source": [
    "class Decoder_IP(AbstractIP):\n",
    "    bindto = ['My IP Type']\n",
    "    def __init__(self, description):\n",
    "        super().__init__(description)\n",
    "\n",
    "    \n",
    "    def config():\n",
    "        pass\n"
   ]
  },
  {
   "cell_type": "markdown",
   "metadata": {},
   "source": [
    "## Create Overlay \n"
   ]
  },
  {
   "cell_type": "code",
   "execution_count": null,
   "metadata": {},
   "outputs": [],
   "source": [
    "ol = Overlay(\"PolarCodes.bit\")"
   ]
  },
  {
   "cell_type": "code",
   "execution_count": null,
   "metadata": {},
   "outputs": [],
   "source": [
    "ol?"
   ]
  },
  {
   "cell_type": "markdown",
   "metadata": {},
   "source": [
    "## Create INT array from Characters\n"
   ]
  },
  {
   "cell_type": "code",
   "execution_count": null,
   "metadata": {},
   "outputs": [],
   "source": [
    "def char_to_int_array(string):\n",
    "    bits = ''\n",
    "    for charater in string:\n",
    "        temp = ord(charater)\n",
    "        bits += (bin(temp)[2:]).zfill(8)\n",
    "    bits_array = [int(bit,2) for x in bits]\n",
    "    return bits_array\n"
   ]
  },
  {
   "cell_type": "code",
   "execution_count": null,
   "metadata": {},
   "outputs": [],
   "source": []
  }
 ],
 "metadata": {
  "language_info": {
   "name": "python"
  },
  "orig_nbformat": 4
 },
 "nbformat": 4,
 "nbformat_minor": 2
}
