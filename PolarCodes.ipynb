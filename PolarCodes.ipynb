{
 "cells": [
  {
   "cell_type": "code",
   "execution_count": null,
   "metadata": {},
   "outputs": [],
   "source": [
    "from pynq import Overlay\n",
    "from pynq import DefaultIP"
   ]
  },
  {
   "cell_type": "code",
   "execution_count": null,
   "metadata": {},
   "outputs": [],
   "source": [
    "from math import log,ceil\n",
    "class Data():\n",
    "    # Maps for conversion ease\n",
    "    _modSchemes = {\"QPSK\":0,\"BPSK\":1,\"QAM16\":2,\"QAM64\":3}\n",
    "    _modSchemeBps = {\"BPSK\":1,\"QPSK\":2,\"QAM16\":4,\"QAM64\":6}\n",
    "    def __init__(self):\n",
    "        # Variables User Sets Up\n",
    "        self.isUL = None\n",
    "        self.crcLen = None\n",
    "        self.K = None\n",
    "        self.E = None\n",
    "        self.modScheme = None\n",
    "        # Internal variables\n",
    "        self._msgLen = None\n",
    "        self._iIl = None\n",
    "        self._iBIL = None\n",
    "        self._nMax = None\n",
    "        self._N = None\n",
    "        self._E_mod = None\n",
    "        self._isConfigured = False\n",
    "    \n",
    "    def _setN(self):\n",
    "        cl2e = ceil(log(self.E,2))\n",
    "        if self.E <= 9/8 * 2**(cl2e-1) and self.K/self.E < 9/16:\n",
    "            n1 = cl2e-1\n",
    "        else:\n",
    "            n1 = cl2e\n",
    "        rmin = 1/8\n",
    "        n2 = ceil(log(self.K/rmin,2))\n",
    "        nMin = 5\n",
    "        n = max(min(n1,n2,self._nMax),nMin)\n",
    "        self._N = 2^n\n",
    "    \n",
    "    def _setE_mod(self):\n",
    "        self._E_mod = (2* self.E) // Data._modSchemeBps[self.modScheme]\n",
    "    \n",
    "    def _setInternalVar(self):\n",
    "        ''' Setup iIl ,iBL and nMax according to uplink or downlink '''\n",
    "        if self.isUL:\n",
    "            self._iIl = False\n",
    "            self._iBIL = True\n",
    "            self._nMax = 10\n",
    "        else:\n",
    "            self._iIl = True\n",
    "            self._iBIL = False\n",
    "            self._nMax = 9\n",
    "        self._setN()\n",
    "        self._setE_mod()\n",
    "        \n",
    "    \n",
    "\n",
    "    def _setK(self,K):\n",
    "        if self.isUL:\n",
    "            if (K >= 18 and K <= 1023) and not (K >= 26 and K <= 30):\n",
    "                self.K = K\n",
    "            else:\n",
    "                self._reset()\n",
    "                raise ValueError(\"K must be between 18 and 1023 for UL\")\n",
    "                \n",
    "        else:\n",
    "            if (K >= 36 and K <= 184):\n",
    "                self.K = K\n",
    "            else:\n",
    "                self._reset()\n",
    "                raise ValueError(\"K must be between 36 and 184 for DL\")\n",
    "                \n",
    "    \n",
    "    def _setCrcLen(self,crcLen):\n",
    "        if self.isUL:\n",
    "            if crcLen == 6 or crcLen == 11:\n",
    "                self.crcLen = crcLen\n",
    "            else:\n",
    "                self._reset()\n",
    "                raise ValueError(\"crcLen must be 6 or 11 for UL\")\n",
    "                \n",
    "        else:\n",
    "            if crcLen == 24:\n",
    "                self.crcLen = crcLen\n",
    "            else:\n",
    "                self._reset()\n",
    "                raise ValueError(\"crcLen must be 24 for DL\")\n",
    "                \n",
    "             \n",
    "    def _setMsgLen(self):\n",
    "        self._msgLen = self.K - self.crcLen\n",
    "    \n",
    "    def _setupMsgSize(self,K,crcLen):\n",
    "        if self.isUL == None:\n",
    "            self._reset()\n",
    "            raise ValueError(\"isUL must be set before K and crcLen\")\n",
    "            \n",
    "        else:\n",
    "            self._setK(K)\n",
    "            self._setCrcLen(crcLen)\n",
    "            self._setMsgLen()\n",
    "    \n",
    "    def _setupModScheme(self,modScheme):\n",
    "        if modScheme.upper() in Data._modSchemes.keys():\n",
    "            self.modScheme = modScheme\n",
    "            self._bps = Data._modSchemeBps[self.modScheme]\n",
    "        else:\n",
    "            self._reset()\n",
    "            raise ValueError(\"modScheme must be one of QPSK,BPSK,QAM16,QAM64\")\n",
    "            pass # Throw Error and call _reset   \n",
    "    \n",
    "    \n",
    "    def _setE(self,E):\n",
    "        temp = log(E,2)\n",
    "        temp_int = int(temp)\n",
    "        if E > self.K and temp == temp_int:\n",
    "            self.E = E\n",
    "        else: \n",
    "            self._reset()\n",
    "            raise ValueError(\"E must be greater than K\")\n",
    "            pass # Throw error call _reset\n",
    "    \n",
    "    def _setisUL(self, isUL):\n",
    "        self.isUL = isUL\n",
    "    \n",
    "    def setupData(self,isUL, K,crcLen,E,modScheme):\n",
    "        # set UL\n",
    "        self._setisUL(isUL)\n",
    "        # setup K crcLen and msgSize\n",
    "        self._setupMsgSize(K,crcLen)\n",
    "        # setup modulation scheme\n",
    "        self._setupModScheme(modScheme)\n",
    "        # setup Rate Matched output Length\n",
    "        self._setE(E)\n",
    "        #setup internal variables\n",
    "        self._setInternalVar()\n",
    "        #data setup complete\n",
    "        self._isConfigured = True\n",
    "    def _reset(self):\n",
    "        # Variables User Sets Up\n",
    "        self.isUL = None\n",
    "        self.crcLen = None\n",
    "        self.K = None\n",
    "        self.E = None\n",
    "        self.modScheme = None\n",
    "        # Internal variables\n",
    "        self._msgLen = None\n",
    "        self._bps = None\n",
    "        self._iIl = None\n",
    "        self._iBIL = None\n",
    "        self._nMax = None\n",
    "        self._N = None\n",
    "        self._E_mod = None\n",
    "        self._isConfigured = False\n",
    "    \n",
    "    def __str__(self):\n",
    "        output = \"is UL=\" + str(self.isUL)+ \"\\n\"\n",
    "        output += \"K=\" + str(self.K) + \"\\n\"\n",
    "        output += \"crcLen=\" + str(self.crcLen) + \"\\n\"\n",
    "        output += \"E=\" + str(self.E) + \"\\n\"\n",
    "        output += \"modscheme=\" + str(self.modScheme) + \"\\n\"\n",
    "        output += \"msgLen=\" + str(self._msgLen) + \"\\n\"\n",
    "        output += \"bps=\" + str(Data._modSchemeBps.get(self.modScheme)) + \"\\n\"\n",
    "        output += \"iIl=\" + str(self._iIl) + \"\\n\"\n",
    "        output += \"iBIL=\" + str(self._iBIL) + \"\\n\"\n",
    "        output += \"nMax=\" + str(self._nMax) + \"\\n\"\n",
    "        output += \"N=\" + str(self._N) + \"\\n\"\n",
    "        output += \"E_mod=\" + str(self._E_mod) + \"\\n\"\n",
    "        return output\n",
    "    \n",
    "        \n",
    "\n",
    "\n",
    "        \n",
    "        \n",
    "\n",
    "\n",
    "\n"
   ]
  },
  {
   "cell_type": "markdown",
   "metadata": {},
   "source": [
    "## Driver for Encoder_IP\n"
   ]
  },
  {
   "cell_type": "code",
   "execution_count": null,
   "metadata": {},
   "outputs": [],
   "source": [
    "class Encoder_IP(DefaultIP):\n",
    "    bindto = ['xilinx.com:hls:polarEncoderIP:1.1']\n",
    "    def __init__(self, description):\n",
    "        super().__init__(description)\n",
    "        self._data = Data()\n",
    "    \n",
    "    def _writeConfig(self):\n",
    "        self.register_map.crcLen_V = self._data.crcLen\n",
    "        self.register_map.msgLen_V = self._data._msgLen\n",
    "        self.register_map.E_V = self._data.E\n",
    "        self.register_map.nMax_V = self._data._nMax\n",
    "        self.register_map.iBIL_V = int(self._data._iBIL)\n",
    "        self.register_map.iIL_V = int(self._data._iIl)\n",
    "        self.register_map.modScheme = Data._modSchemes[self._data.modScheme]\n",
    "    \n",
    "    def config(self,isUL, K,crcLen,E,modScheme):    \n",
    "        ''' Writes the configuration to the Encoder IP after the checks are performed over all passed arguments'''\n",
    "        self._data.setupData(isUL,K,crcLen,E,modScheme)\n",
    "        self._writeConfig()\n",
    "        \n",
    "    \n",
    "\n",
    "    \n",
    "\n",
    "    \n"
   ]
  },
  {
   "cell_type": "markdown",
   "metadata": {},
   "source": [
    "## Driver for Rate_Recover_IP\n"
   ]
  },
  {
   "cell_type": "code",
   "execution_count": null,
   "metadata": {},
   "outputs": [],
   "source": [
    "class RateRecover_IP(DefaultIP):\n",
    "    bindto = ['xilinx.com:hls:RateRecover:1.1']\n",
    "    def __init__(self, description):\n",
    "        super().__init__(description)\n",
    "        self._data = Data()\n",
    "    def _writeConfig(self):\n",
    "        pass\n",
    "    def config(self,isUL, K,crcLen,E,modScheme):    \n",
    "        ''' Writes the configuration to the Encoder IP after the checks are performed over all passed arguments'''\n",
    "        self._data.setupData(isUL,K,crcLen,E,modScheme)\n",
    "        self._writeConfig()\n"
   ]
  },
  {
   "cell_type": "markdown",
   "metadata": {},
   "source": [
    "## Driver for Decoder_IP\n"
   ]
  },
  {
   "cell_type": "code",
   "execution_count": null,
   "metadata": {},
   "outputs": [],
   "source": [
    "class Decoder_IP(DefaultIP):\n",
    "    bindto = ['xilinx.com:hls:PolarDecoder:1.1']\n",
    "    def __init__(self, description):\n",
    "        super().__init__(description)\n",
    "\n",
    "    def _writeConfig(self):\n",
    "        pass\n",
    "    def config(self,isUL, K,crcLen,E,modScheme):    \n",
    "        ''' Writes the configuration to the Encoder IP after the checks are performed over all passed arguments'''\n",
    "        self._data.setupData(isUL,K,crcLen,E,modScheme)\n",
    "        self._writeConfig()\n"
   ]
  },
  {
   "cell_type": "markdown",
   "metadata": {},
   "source": [
    "## Create Overlay \n"
   ]
  },
  {
   "cell_type": "code",
   "execution_count": null,
   "metadata": {},
   "outputs": [],
   "source": [
    "ol = Overlay(\"PolarCodes.bit\")"
   ]
  },
  {
   "cell_type": "code",
   "execution_count": null,
   "metadata": {},
   "outputs": [],
   "source": [
    "ol?"
   ]
  },
  {
   "cell_type": "markdown",
   "metadata": {},
   "source": [
    "## Create INT array from Characters\n"
   ]
  },
  {
   "cell_type": "code",
   "execution_count": null,
   "metadata": {},
   "outputs": [],
   "source": [
    "def char_to_int_array(string):\n",
    "    bits = ''\n",
    "    for charater in string:\n",
    "        temp = ord(charater)\n",
    "        bits += (bin(temp)[2:]).zfill(8)\n",
    "    bits_array = [int(bit,2) for bit in bits]\n",
    "    return bits_array\n"
   ]
  },
  {
   "cell_type": "code",
   "execution_count": null,
   "metadata": {},
   "outputs": [],
   "source": [
    "encoder_ip = ol.Encoder.polarEncoderIP_0"
   ]
  },
  {
   "cell_type": "code",
   "execution_count": null,
   "metadata": {},
   "outputs": [],
   "source": []
  },
  {
   "cell_type": "code",
   "execution_count": null,
   "metadata": {},
   "outputs": [],
   "source": [
    "encoder_ip.config(True,20,11,2048,'QPSK')"
   ]
  },
  {
   "cell_type": "code",
   "execution_count": null,
   "metadata": {},
   "outputs": [],
   "source": []
  }
 ],
 "metadata": {
  "kernelspec": {
   "display_name": "Python 3",
   "language": "python",
   "name": "python3"
  },
  "language_info": {
   "codemirror_mode": {
    "name": "ipython",
    "version": 3
   },
   "file_extension": ".py",
   "mimetype": "text/x-python",
   "name": "python",
   "nbconvert_exporter": "python",
   "pygments_lexer": "ipython3",
   "version": "3.8.2"
  }
 },
 "nbformat": 4,
 "nbformat_minor": 2
}
