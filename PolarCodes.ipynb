{
 "cells": [
  {
   "cell_type": "code",
   "execution_count": null,
   "metadata": {},
   "outputs": [],
   "source": [
    "from pynq import Overlay\n",
    "from pynq import DefaultIP"
   ]
  },
  {
   "cell_type": "code",
   "execution_count": null,
   "metadata": {},
   "outputs": [],
   "source": [
    "from math import log\n",
    "class AbstractIP(DefaultIP):\n",
    "    bindto = None\n",
    "    \n",
    "    def __init__(self, description):\n",
    "        super().__init__(description)\n",
    "        # Variables User Sets Up\n",
    "        self.isUL = None\n",
    "        self.crcLen = None\n",
    "        self.K = None\n",
    "        self.msgLen = None\n",
    "        self.E = None\n",
    "        self.modScheme = None\n",
    "        # Internal variables\n",
    "        self._iIl = None\n",
    "        self._iBl = None\n",
    "        self._nMax = None\n",
    "        self.isConfigured = False\n",
    "        self._modSchemes = [\"QPSK\",\"BPSK\",\"QAM16\",\"QAM64\"]\n",
    "        self._modSchemeBps = {\"BPSK\":1,\"QPSK\":2,\"QAM16\":4,\"QAM64\":6}\n",
    "    def _setInternalVar(self,isUL):\n",
    "        ''' Setup iIl ,iBl and nMax according to uplink or downlink '''\n",
    "        self.isUL = isUL\n",
    "        if self.isUL:\n",
    "            self._iIl = False\n",
    "            self.iBl = True\n",
    "            self.nMax = 10\n",
    "        else:\n",
    "            self._iIl = True\n",
    "            self._iBl = False\n",
    "            self.nMax = 9\n",
    "            \n",
    "    def _reset(self):\n",
    "        # Variables User Sets Up\n",
    "        self.isUL = None\n",
    "        self.crcLen = None\n",
    "        self.K = None\n",
    "        self.msgLen = None\n",
    "        self.E = None\n",
    "        self.modScheme = None\n",
    "        # Internal variables\n",
    "        self._bps = None\n",
    "        self._iIl = None\n",
    "        self._iBl = None\n",
    "        self._nMax = None\n",
    "        self.isConfigured = False\n",
    "\n",
    "    def _setK(self,K):\n",
    "        if self.isUL:\n",
    "            if (K >= 18 and K <= 1023) and not (K >= 26 and K <= 30):\n",
    "                self.K = K\n",
    "            else:\n",
    "                pass # Throw error here and call _reset()\n",
    "        else:\n",
    "            if (K >= 36 and K <= 184):\n",
    "                self.K = K\n",
    "            else:\n",
    "                pass # Throw error here and call _reset()\n",
    "    \n",
    "    def _setCrcLen(self,crcLen):\n",
    "        if self.UL:\n",
    "            if crcLen == 6 or crcLen == 11:\n",
    "                self.crcLen = crcLen\n",
    "            else:\n",
    "                pass # Throw error here and call _reset()\n",
    "        else:\n",
    "            if crcLen == 24:\n",
    "                self.crcLen = crcLen\n",
    "            else:\n",
    "                pass # Throw error here and call _reset()\n",
    "             \n",
    "    def _setMsgLen(self):\n",
    "        self.msgLen = self.K - self.crcLen\n",
    "    \n",
    "    def _setupMsgSize(self,K,crcLen):\n",
    "        if self.UL == None:\n",
    "            pass # Throw error here and call _reset()\n",
    "        else:\n",
    "            self._setK(K)\n",
    "            self._setCrcLen(crcLen)\n",
    "            self._setMsgLen()\n",
    "    \n",
    "    def _setupModScheme(self,modScheme):\n",
    "        if modScheme.upper() in self._modSchemes:\n",
    "            self.modScheme = modScheme\n",
    "            self._bps = self._modSchemeBps[self.modScheme]\n",
    "        else:\n",
    "            pass # Throw Error and call _reset   \n",
    "    \n",
    "    \n",
    "    def _setE(self,E):\n",
    "        temp = log(E,2)\n",
    "        temp_int = int(temp)\n",
    "        if E > self.K and temp == temp_int:\n",
    "           self.E = E\n",
    "        else: \n",
    "            pass # Throw error call _reset\n",
    "    def _setupE(self,E):\n",
    "        self._setE(E)\n",
    "\n",
    "\n",
    "        \n",
    "        \n",
    "\n",
    "\n",
    "\n"
   ]
  },
  {
   "cell_type": "markdown",
   "metadata": {},
   "source": [
    "## Driver for Encoder_IP\n"
   ]
  },
  {
   "cell_type": "code",
   "execution_count": null,
   "metadata": {},
   "outputs": [],
   "source": [
    "class Encoder_IP(AbstractIP):\n",
    "    bindto = ['xilinx.com:hls:polarEncoderIP:1.1']\n",
    "    def __init__(self, description):\n",
    "        super().__init__(description)\n",
    "    \n",
    "    def _writeConfig(self):\n",
    "        pass\n",
    "    \n",
    "    def config(self,isUL, K,crcLen,E,modScheme):    \n",
    "        #setup internal variables\n",
    "        self._setInternalVar(isUL)\n",
    "        # setup K crcLen and msgSize\n",
    "        self._setupMsgSize(K,crcLen)\n",
    "        # setup modulation scheme\n",
    "        self._setupModScheme(modScheme)\n",
    "        # setup Rate Matched output Length\n",
    "        self._setupE(E)\n",
    "    \n",
    "\n",
    "    \n",
    "\n",
    "    \n"
   ]
  },
  {
   "cell_type": "markdown",
   "metadata": {},
   "source": [
    "## Driver for Rate_Recover_IP\n"
   ]
  },
  {
   "cell_type": "code",
   "execution_count": null,
   "metadata": {},
   "outputs": [],
   "source": [
    "class RateRecover_IP(AbstractIP):\n",
    "    bindto = ['xilinx.com:hls:RateRecover:1.1']\n",
    "    def __init__(self, description):\n",
    "        super().__init__(description)\n",
    "\n",
    "    \n",
    "    def config():\n",
    "        pass\n"
   ]
  },
  {
   "cell_type": "markdown",
   "metadata": {},
   "source": [
    "## Driver for Decoder_IP\n"
   ]
  },
  {
   "cell_type": "code",
   "execution_count": null,
   "metadata": {},
   "outputs": [],
   "source": [
    "class Decoder_IP(AbstractIP):\n",
    "    bindto = ['xilinx.com:hls:PolarDecoder:1.1']\n",
    "    def __init__(self, description):\n",
    "        super().__init__(description)\n",
    "\n",
    "    \n",
    "    def config():\n",
    "        pass\n"
   ]
  },
  {
   "cell_type": "markdown",
   "metadata": {},
   "source": [
    "## Create Overlay \n"
   ]
  },
  {
   "cell_type": "code",
   "execution_count": null,
   "metadata": {},
   "outputs": [],
   "source": [
    "ol = Overlay(\"PolarCodes.bit\")"
   ]
  },
  {
   "cell_type": "code",
   "execution_count": null,
   "metadata": {},
   "outputs": [],
   "source": [
    "ol?"
   ]
  },
  {
   "cell_type": "markdown",
   "metadata": {},
   "source": [
    "## Create INT array from Characters\n"
   ]
  },
  {
   "cell_type": "code",
   "execution_count": null,
   "metadata": {},
   "outputs": [],
   "source": [
    "def char_to_int_array(string):\n",
    "    bits = ''\n",
    "    for charater in string:\n",
    "        temp = ord(charater)\n",
    "        bits += (bin(temp)[2:]).zfill(8)\n",
    "    bits_array = [int(bit,2) for bit in bits]\n",
    "    return bits_array\n"
   ]
  },
  {
   "cell_type": "code",
   "execution_count": null,
   "metadata": {},
   "outputs": [],
   "source": []
  }
 ],
 "metadata": {
  "language_info": {
   "name": "python"
  },
  "orig_nbformat": 4
 },
 "nbformat": 4,
 "nbformat_minor": 2
}
